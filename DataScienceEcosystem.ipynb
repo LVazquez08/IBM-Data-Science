{
 "cells": [
  {
   "cell_type": "markdown",
   "id": "fe6015ee-0dbe-4bb5-b344-6fd3f88148cd",
   "metadata": {},
   "source": [
    "# Data Science Tools and Ecosystem"
   ]
  },
  {
   "cell_type": "markdown",
   "id": "fe645e73-7bbd-432c-8e10-c6137d3b157f",
   "metadata": {},
   "source": [
    "In this notebook, Data Science Tools and Ecosystem are summarized."
   ]
  },
  {
   "cell_type": "markdown",
   "id": "d1bec014-2c80-415f-bb1b-1af39e2ca41c",
   "metadata": {},
   "source": [
    "**Objetives:**"
   ]
  },
  {
   "cell_type": "markdown",
   "id": "f9551b99-0c89-489e-8767-63123edd9a0a",
   "metadata": {},
   "source": [
    "- Popular languages for Data Science.\n",
    "- Common used libraries for Data Science.\n",
    "- Data Science tools.\n",
    "- Examples of arithmetic expressions in Python."
   ]
  },
  {
   "cell_type": "markdown",
   "id": "2db9639d-ded7-415e-a457-8baeacca409f",
   "metadata": {},
   "source": [
    "Some of the popular languages that Data Scientist use are: \n",
    "\n",
    "1. Python\n",
    "2. R\n",
    "3. Java"
   ]
  },
  {
   "cell_type": "markdown",
   "id": "ff7ba14c-7388-486c-a135-0200b12c7611",
   "metadata": {},
   "source": [
    "Some of the commonly used libraries used by Data Scientists include:\n",
    "1. Ploty\n",
    "2. Numpy\n",
    "3. Pandas"
   ]
  },
  {
   "cell_type": "markdown",
   "id": "b7f92bc8-74a3-4885-abae-a8c8372f89b5",
   "metadata": {},
   "source": [
    "| Data Science Tools |\n",
    "|------|\n",
    "| Hadoop |\n",
    "| Tensorflow |\n",
    "| Apache Spark |"
   ]
  },
  {
   "cell_type": "markdown",
   "id": "def5fa6e-2fa3-44f0-aa25-ce110b79cb47",
   "metadata": {},
   "source": [
    "### Below are a few examples of evaluating arithmetic expressions in Python."
   ]
  },
  {
   "cell_type": "markdown",
   "id": "b71b21d3-d64b-4102-9996-532f54e637ff",
   "metadata": {},
   "source": [
    "This is an example of a simple arithmetic expression to multiply then add integers."
   ]
  },
  {
   "cell_type": "code",
   "execution_count": 8,
   "id": "6a3e53f5-b77a-4876-8b53-e9c6c9f335ee",
   "metadata": {},
   "outputs": [
    {
     "data": {
      "text/plain": [
       "17"
      ]
     },
     "execution_count": 8,
     "metadata": {},
     "output_type": "execute_result"
    }
   ],
   "source": [
    "(3*4)+5"
   ]
  },
  {
   "cell_type": "markdown",
   "id": "8e2ea948-e47d-4597-a9c1-e47bdc5bfb9d",
   "metadata": {},
   "source": [
    "This will convert 200 minutes to hours by dividing by 60."
   ]
  },
  {
   "cell_type": "code",
   "execution_count": 9,
   "id": "a317b1b9-f598-4d1f-8708-01de94b96f60",
   "metadata": {},
   "outputs": [
    {
     "data": {
      "text/plain": [
       "3.3333333333333335"
      ]
     },
     "execution_count": 9,
     "metadata": {},
     "output_type": "execute_result"
    }
   ],
   "source": [
    "(200/60)"
   ]
  },
  {
   "cell_type": "markdown",
   "id": "60c9e558-bc42-4daf-9d83-97bba09da44b",
   "metadata": {},
   "source": [
    "## Author\n",
    "Luis Alejandro Vazquez"
   ]
  },
  {
   "cell_type": "code",
   "execution_count": null,
   "id": "ecf9874a-f89f-4bca-a0e8-3eb7a8ff3625",
   "metadata": {},
   "outputs": [],
   "source": []
  }
 ],
 "metadata": {
  "kernelspec": {
   "display_name": "anaconda-panel-2023.05-py310",
   "language": "python",
   "name": "conda-env-anaconda-panel-2023.05-py310-py"
  },
  "language_info": {
   "codemirror_mode": {
    "name": "ipython",
    "version": 3
   },
   "file_extension": ".py",
   "mimetype": "text/x-python",
   "name": "python",
   "nbconvert_exporter": "python",
   "pygments_lexer": "ipython3",
   "version": "3.11.5"
  }
 },
 "nbformat": 4,
 "nbformat_minor": 5
}
